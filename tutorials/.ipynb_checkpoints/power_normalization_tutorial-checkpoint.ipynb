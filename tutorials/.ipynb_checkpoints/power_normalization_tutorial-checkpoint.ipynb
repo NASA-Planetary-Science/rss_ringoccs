{
 "cells": [
  {
   "cell_type": "markdown",
   "metadata": {
    "deletable": true,
    "editable": true
   },
   "source": [
    "# How to use the Power Normalization Fit GUI\n",
    "\n",
    "The Normalization class in the processing pipeline, unless you explicitly say otherwise, will open a GUI window in which you will make a least-squares spline fit to power. Some of the time, the default fit looks great and you don't need to do any adjusting (like in rev7E). However, in most cases, you will need to do some adjusting, hence why the GUI exists. Since the default fit almost always needs adjusting, we highly recommend you don't turn the GUI off if you're running an occultation for the first time!\n",
    "\n",
    "To follow along with this example, go to the \"pipeline\" directory in rss_ringoccs and type in:\n",
    "\n",
    "```\n",
    "python power_normalization_tutorial_rev9E_X14_e2e.py\n",
    "```\n",
    "\n",
    "## Typical Free-space Regions\n",
    "\n",
    "This routine will run for a few minutes until it opens up this window on your screen (except for the green boxes and arrows):\n",
    "\n",
    "![title](figs/power_normalization_tutorial_image1.png)\n",
    "\n",
    "The blue line is downsampled power, and the red line is an attempted spline fit to the free-space regions. The bottom x axis has the time of the event in SPM (seconds past midnight), and the top x axis has the corresponding ring radius in kilometers.\n",
    "\n",
    "Most of the time, you will have to specify free-space regions to include in the fit, as well as knots to use in the spline. Typical free-space regions to include are:\n",
    "\n",
    "1. Baseline before occultation starts (about 64000 km - 73500 km)\n",
    "2. Colombo Ringlet (about 77100 km, in the inner C ring)\n",
    "3. Maxwell Ringlet (about 86500 km, in the outer C ring)\n",
    "4. Huygens Ringlet (about 116200 km, in the inner Cassini Division)\n",
    "5. Bessel Gap (about 118500 km, in the outer Cassini Division)\n",
    "6. Encke Gap (about 132000 km, in the A ring)\n",
    "7. Baseline after occultation ends (about 135500 km - 200000 km)\n",
    "\n",
    "These regions are numerically marked in green on the image above. Note that the ring radius regions quoted in the above list are specific to this occultation. Depending on the occultation, the ring radius region could change by a few thousand kilometers.\n",
    "\n",
    "## Adjusting Free-space Regions\n",
    "\n",
    "Adjusting the free-space regions involves exactly the same process as in the frequency calibration tutorial (f_resid_fit_tutorial.ipynb). The one important distinction here is to enter a knot for each free-space region. Typically, we put it in the center of each free-space region.\n",
    "\n",
    "### Region 1\n",
    "\n",
    "Beginning the same clicking-and-zooming process as in the frequency calibration tutorial, we will zoom in and mark free-space and a knot for region 1 as [63700, 64380] and 64000:\n",
    "\n",
    "![title](figs/power_normalization_tutorial_image2.png)\n",
    "\n",
    "### Region 2\n",
    "\n",
    "Doing the same process for region 2, and marking free-space and a knot as [64641, 64645] and 64643:\n",
    "\n",
    "![title](figs/power_normalization_tutorial_image3.png)\n",
    "\n",
    "Note that I have only taken the region to the left of the Colombo Ringlet. It's redundant to include the regions to both the left and right because the spline fit doesn't vary rapidly enough for both regions to matter. Typically, I just take the longer, clearer-looking free-space region of the two.\n",
    "\n",
    "Simply repeat the process for the remainder of the free-space regions listed and click the \"Set fit range and knots (SPM)\" button to get this resulting figure:\n",
    "\n",
    "![title](figs/power_normalization_tutorial_image4.png)\n",
    "\n",
    "## Adjusting Fit Order\n",
    "\n",
    "On the image above, we clearly want the spline fit to be flatter in between the regions it's fitting, meaning we want a lower fit order. Adjusting the fit order is just like how it was in the frequency calibration GUI. Go to the box in the top left, click the blue down-arrow for a drop down menu of fit orders, and choose the one you want. We want a lower fit order, so we will switch from order 2 to order 1:\n",
    "\n",
    "![title](figs/power_normalization_tutorial_image5.png)\n",
    "\n",
    "You can see that the resulting fit looks a lot flatter and more well-tamed:\n",
    "\n",
    "![title](figs/power_normalization_tutorial_image6.png)\n",
    "\n",
    "## Finishing the GUI\n",
    "\n",
    "When you're satisfied with the fit you've made, just click the \"OK\" button. Another window will come up asking you if you're sure, and if you are, then click \"Yes\"."
   ]
  },
  {
   "cell_type": "code",
   "execution_count": null,
   "metadata": {
    "collapsed": true,
    "deletable": true,
    "editable": true
   },
   "outputs": [],
   "source": []
  }
 ],
 "metadata": {
  "kernelspec": {
   "display_name": "Python 3",
   "language": "python",
   "name": "python3"
  },
  "language_info": {
   "codemirror_mode": {
    "name": "ipython",
    "version": 3
   },
   "file_extension": ".py",
   "mimetype": "text/x-python",
   "name": "python",
   "nbconvert_exporter": "python",
   "pygments_lexer": "ipython3",
   "version": "3.5.2"
  }
 },
 "nbformat": 4,
 "nbformat_minor": 2
}
